{
 "cells": [
  {
   "cell_type": "code",
   "execution_count": 5,
   "metadata": {
    "collapsed": false
   },
   "outputs": [],
   "source": [
    "%matplotlib inline \n",
    "\n",
    "from __future__ import division, print_function\n",
    "from vpython import *\n",
    "from math import *\n",
    "import numpy as np\n",
    "import matplotlib.pyplot as plt"
   ]
  },
  {
   "cell_type": "code",
   "execution_count": null,
   "metadata": {
    "collapsed": false
   },
   "outputs": [
    {
     "data": {
      "text/html": [
       "<div id=\"glowscript\" class=\"glowscript\"></div>"
      ],
      "text/plain": [
       "<IPython.core.display.HTML object>"
      ]
     },
     "metadata": {},
     "output_type": "display_data"
    },
    {
     "data": {
      "application/javascript": [
       "window.__context = { glowscript_container: $(\"#glowscript\").removeAttr(\"id\")}"
      ],
      "text/plain": [
       "<IPython.core.display.Javascript object>"
      ]
     },
     "metadata": {},
     "output_type": "display_data"
    }
   ],
   "source": [
    "g=9.8  #m/s^2\n",
    "k=50   #N/m\n",
    "t=0\n",
    "\n",
    "mass=0.3 #kg\n",
    "L0=0.15 #m       equilibrium length\n",
    "L=vec(.23,-0.1,0) #m       initial position\n",
    "\n",
    "F_grav=vec(0,-mass*g,0)\n",
    "#F_floor=-F_grav\n",
    "F_floor = vec(0,0,0)\n",
    "\n",
    "scene=canvas(title=\"My first 3D scene\")\n",
    "top = box(pos=vec(0,0,0),length=0.5, width=0.01, height=0.01)\n",
    "spring = helix(pos=vec(0,0,0), axis=L, radius=0.02, length = mag(L), coils=10, color=color.yellow)\n",
    "ball=sphere(pos=L,radius=0.03, color=color.red, make_trail=True)\n",
    "ball.v=vec(0,0,0)\n",
    "ball.p = mass  * ball.v\n",
    "\n",
    "dt=0.005\n",
    "\n",
    "while t<5:\n",
    "    rate(100)\n",
    "    L_hat=L/mag(L)\n",
    "    s = (mag(L)-L0)*L_hat\n",
    "    F_sp=-k*s\n",
    "    F_net=F_sp+F_grav+F_floor\n",
    "    ball.p=ball.p+F_net*dt\n",
    "    L=L+(ball.p/mass)*dt\n",
    "    spring.length=mag(L)\n",
    "    spring.axis=L\n",
    "    ball.pos=L\n",
    "    ball.v=ball.p/mass\n",
    "    t=t+dt"
   ]
  },
  {
   "cell_type": "code",
   "execution_count": null,
   "metadata": {
    "collapsed": true
   },
   "outputs": [],
   "source": []
  }
 ],
 "metadata": {
  "kernelspec": {
   "display_name": "Python 3",
   "language": "python",
   "name": "python3"
  },
  "language_info": {
   "codemirror_mode": {
    "name": "ipython",
    "version": 3
   },
   "file_extension": ".py",
   "mimetype": "text/x-python",
   "name": "python",
   "nbconvert_exporter": "python",
   "pygments_lexer": "ipython3",
   "version": "3.5.2"
  }
 },
 "nbformat": 4,
 "nbformat_minor": 2
}
